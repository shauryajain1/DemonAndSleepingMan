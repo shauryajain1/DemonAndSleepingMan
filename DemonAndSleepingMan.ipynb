{
  "nbformat": 4,
  "nbformat_minor": 0,
  "metadata": {
    "colab": {
      "provenance": [],
      "authorship_tag": "ABX9TyNNOPYu03C27lSO3O/Ru8PG",
      "include_colab_link": true
    },
    "kernelspec": {
      "name": "python3",
      "display_name": "Python 3"
    },
    "language_info": {
      "name": "python"
    }
  },
  "cells": [
    {
      "cell_type": "markdown",
      "metadata": {
        "id": "view-in-github",
        "colab_type": "text"
      },
      "source": [
        "<a href=\"https://colab.research.google.com/github/shauryajain1/DemonAndSleepingMan/blob/main/DemonAndSleepingMan.ipynb\" target=\"_parent\"><img src=\"https://colab.research.google.com/assets/colab-badge.svg\" alt=\"Open In Colab\"/></a>"
      ]
    },
    {
      "cell_type": "code",
      "execution_count": 1,
      "metadata": {
        "colab": {
          "base_uri": "https://localhost:8080/"
        },
        "id": "H3eO0CXdqvAC",
        "outputId": "bb6c9ff7-d643-4d65-9667-518b395e25c1"
      },
      "outputs": [
        {
          "output_type": "stream",
          "name": "stdout",
          "text": [
            "Enter the number of demons65\n",
            "1\n"
          ]
        }
      ],
      "source": [
        "#Demons eat only that many humans as are required to even the number of demons\n",
        "n= int(input(\"Enter the number of demons\"))\n",
        "if(n%2==0):\n",
        "  print(\"0\")\n",
        "else:\n",
        "  print(\"1\")\n",
        "\n"
      ]
    }
  ]
}